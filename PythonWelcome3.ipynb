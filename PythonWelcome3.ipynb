{
  "nbformat": 4,
  "nbformat_minor": 0,
  "metadata": {
    "colab": {
      "provenance": [],
      "include_colab_link": true
    },
    "kernelspec": {
      "name": "python3",
      "display_name": "Python 3"
    },
    "language_info": {
      "name": "python"
    }
  },
  "cells": [
    {
      "cell_type": "markdown",
      "metadata": {
        "id": "view-in-github",
        "colab_type": "text"
      },
      "source": [
        "<a href=\"https://colab.research.google.com/github/Antoniorios17/Antoniorios17/blob/main/PythonWelcome3.ipynb\" target=\"_parent\"><img src=\"https://colab.research.google.com/assets/colab-badge.svg\" alt=\"Open In Colab\"/></a>"
      ]
    },
    {
      "cell_type": "markdown",
      "source": [
        "# Welcome to Python Day 3\n",
        "\n",
        "\n",
        "\n",
        "---\n"
      ],
      "metadata": {
        "id": "h9_GCqvPOox2"
      }
    },
    {
      "cell_type": "code",
      "source": [
        "# IF ELSE ELIF FOR LOOP WHILE LOOP\n",
        "# try:\n",
        "#     ans = float(input('Enter a number '))\n",
        "\n",
        "\n",
        "#     if float(ans) > float(4):\n",
        "#       print(f'Your number {ans} is greater than 4')\n",
        "#     elif ans == float(4):\n",
        "#       print(f'{ans} is equal to 4')\n",
        "\n",
        "#     else:\n",
        "#       print(f\"your number {ans} is less than 4\")\n",
        "\n",
        "# except:\n",
        "#   print('Must be a number')\n",
        "\n",
        "ans1 = input()\n",
        "ans2 = input()\n",
        "ans = dict(da = ans1)\n",
        "print(ans)\n",
        "# while ans > 4:\n",
        "#   print(f'This is your number {ans}')\n",
        "#   ans = ans - 5\n",
        "\n",
        "# for a in ans:\n",
        "#   if int(a) == 2:\n",
        "#     print(\"You are the winner!!!\")\n",
        "\n"
      ],
      "metadata": {
        "colab": {
          "base_uri": "https://localhost:8080/"
        },
        "id": "qxYdeL_x4saE",
        "outputId": "2b9452a4-2e1c-4dd7-9b12-ca75f6af6d9d"
      },
      "execution_count": null,
      "outputs": [
        {
          "output_type": "stream",
          "name": "stdout",
          "text": [
            "y\n",
            "y\n",
            "{'da': 'y'}\n"
          ]
        }
      ]
    },
    {
      "cell_type": "markdown",
      "source": [
        "Question 1\n",
        "---\n",
        "What condition will you use for a yes or no question? (Do you like pet, answer yes or no? )"
      ],
      "metadata": {
        "id": "Ap6rJT_lxa4O"
      }
    },
    {
      "cell_type": "code",
      "source": [
        "# Answer:\n"
      ],
      "metadata": {
        "id": "KDYTBxCA6CQ8"
      },
      "execution_count": null,
      "outputs": []
    },
    {
      "cell_type": "markdown",
      "source": [
        "Question 2\n",
        "---\n",
        "What condition would you use if you wanted to repeat your question, IF the person answered no? (Do you like pets, answer yes or no? )"
      ],
      "metadata": {
        "id": "M9I-7nn21t_I"
      }
    },
    {
      "cell_type": "code",
      "source": [
        "# Answer:\n"
      ],
      "metadata": {
        "id": "jkVrAjrj1ulN"
      },
      "execution_count": null,
      "outputs": []
    },
    {
      "cell_type": "markdown",
      "source": [
        "Question 3\n",
        "---\n",
        "What condition will you use to see if someone likes dogs, cats or birds? (Print the response to your output)"
      ],
      "metadata": {
        "id": "uLjLktxH1wC8"
      }
    },
    {
      "cell_type": "code",
      "source": [
        "# Answer:\n"
      ],
      "metadata": {
        "id": "bB8UgHxk1wqm"
      },
      "execution_count": null,
      "outputs": []
    }
  ]
}